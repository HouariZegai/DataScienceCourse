{
 "cells": [
  {
   "cell_type": "markdown",
   "metadata": {},
   "source": [
    "#  Python with MySQL"
   ]
  },
  {
   "cell_type": "code",
   "execution_count": 15,
   "metadata": {},
   "outputs": [],
   "source": [
    "import mysql.connector\n",
    "from mysql.connector import errorcode, connect"
   ]
  },
  {
   "cell_type": "markdown",
   "metadata": {},
   "source": [
    "## Connect to database"
   ]
  },
  {
   "cell_type": "code",
   "execution_count": 84,
   "metadata": {},
   "outputs": [],
   "source": [
    "try:\n",
    "    db = connect(\n",
    "        user = 'root',\n",
    "        password = '',\n",
    "        host = 'localhost',\n",
    "        database = 'ds_dataset'\n",
    "    )\n",
    "except mysql.connector.Error as e:\n",
    "    if e.errno == errorcode.ER_ACCESS_DENIED_ERROR:\n",
    "        print(\"Access denied !\")\n",
    "    elif e.errno == errorcode.ER_BAD_DB_ERROR:\n",
    "        print(\"Database not exists\")\n",
    "    else:\n",
    "        print(e)\n",
    "\n",
    "cursor = db.cursor(buffered=True)"
   ]
  },
  {
   "cell_type": "code",
   "execution_count": 17,
   "metadata": {},
   "outputs": [],
   "source": [
    "cursor.execute('DROP TABLE IF EXISTS Employee') # delete table if exists"
   ]
  },
  {
   "cell_type": "code",
   "execution_count": 18,
   "metadata": {},
   "outputs": [],
   "source": [
    "cursor.execute(\"\"\"\n",
    "CREATE TABLE Employee (\n",
    "    id INT PRIMARY KEY AUTO_INCREMENT,\n",
    "    name VARCHAR(200),\n",
    "    salary DOUBLE\n",
    ")\n",
    "\"\"\")"
   ]
  },
  {
   "cell_type": "markdown",
   "metadata": {},
   "source": [
    "## Insert"
   ]
  },
  {
   "cell_type": "code",
   "execution_count": 19,
   "metadata": {},
   "outputs": [],
   "source": [
    "sql = \"INSERT INTO Employee (name, salary) VALUES \\\n",
    "('Houari', 1000);\"\n",
    "cursor.execute(sql)\n",
    "db.commit()"
   ]
  },
  {
   "cell_type": "code",
   "execution_count": 20,
   "metadata": {},
   "outputs": [],
   "source": [
    "name = 'Mohammed'\n",
    "salary = 350.0\n",
    "\n",
    "cursor.execute(\"INSERT INTO Employee (name, salary) VALUES ('%s', '%d');\" % (name, salary))\n",
    "db.commit()"
   ]
  },
  {
   "cell_type": "code",
   "execution_count": 21,
   "metadata": {},
   "outputs": [],
   "source": [
    "def insertData(sql):\n",
    "    try:\n",
    "        cursor.execute(sql)\n",
    "        db.commit()\n",
    "    except:\n",
    "        db.rollback()\n",
    "\n",
    "sql = 'INSERT INTO Employee (name, salary) VALUES (\"Ali\", 250);'\n",
    "insertData(sql)"
   ]
  },
  {
   "cell_type": "code",
   "execution_count": 45,
   "metadata": {},
   "outputs": [],
   "source": [
    "data = {\n",
    "    0: {\n",
    "        'name':'Omar',\n",
    "        'salary':100.0\n",
    "    },\n",
    "    1: {\n",
    "        'name':'Khaled',\n",
    "        'salary':150.0\n",
    "    },\n",
    "    2: {\n",
    "        'name':'Zakaria',\n",
    "        'salary':180.50\n",
    "    }\n",
    "}\n",
    "# Insert collection (list) to database\n",
    "for i in data:\n",
    "    sql = \"INSERT INTO Employee (name, salary) VALUES ('%s', '%d');\" % (data[i]['name'], data[i]['salary'])\n",
    "    insertData(sql)"
   ]
  },
  {
   "cell_type": "markdown",
   "metadata": {},
   "source": [
    "## Select"
   ]
  },
  {
   "cell_type": "code",
   "execution_count": 52,
   "metadata": {},
   "outputs": [],
   "source": [
    "def retrieveData(sql):\n",
    "    try:\n",
    "        cursor.execute(sql)\n",
    "        return cursor.fetchall()\n",
    "    except:\n",
    "        db.rollback()"
   ]
  },
  {
   "cell_type": "code",
   "execution_count": 67,
   "metadata": {},
   "outputs": [
    {
     "data": {
      "text/plain": [
       "[(1, 'Houari', 1050.0),\n",
       " (2, 'Mohammed', 350.0),\n",
       " (3, 'Ali', 250.0),\n",
       " (5, 'Khaled', 150.0),\n",
       " (6, 'Zakaria', 180.0),\n",
       " (8, 'Khaled', 150.0),\n",
       " (9, 'Zakaria', 180.0)]"
      ]
     },
     "execution_count": 67,
     "metadata": {},
     "output_type": "execute_result"
    }
   ],
   "source": [
    "sql = 'SELECT * FROM Employee WHERE salary > 100;'\n",
    "retrieveData(sql)\n"
   ]
  },
  {
   "cell_type": "markdown",
   "metadata": {},
   "source": [
    "## Update"
   ]
  },
  {
   "cell_type": "code",
   "execution_count": 66,
   "metadata": {},
   "outputs": [],
   "source": [
    "sql = \"UPDATE Employee SET salary = salary + 50 WHERE name = 'Houari';\" # add 50 to solde of employee Houari\n",
    "insertData(sql)"
   ]
  },
  {
   "cell_type": "markdown",
   "metadata": {},
   "source": [
    "## Delete"
   ]
  },
  {
   "cell_type": "code",
   "execution_count": 68,
   "metadata": {},
   "outputs": [],
   "source": [
    "sql = \"DELETE FROM Employee WHERE name = 'Khaled';\" # add 50 to solde of employee Houari\n",
    "insertData(sql)"
   ]
  },
  {
   "cell_type": "code",
   "execution_count": 69,
   "metadata": {},
   "outputs": [],
   "source": [
    "db.close() # close connection"
   ]
  }
 ],
 "metadata": {
  "kernelspec": {
   "display_name": "Python 3",
   "language": "python",
   "name": "python3"
  },
  "language_info": {
   "codemirror_mode": {
    "name": "ipython",
    "version": 3
   },
   "file_extension": ".py",
   "mimetype": "text/x-python",
   "name": "python",
   "nbconvert_exporter": "python",
   "pygments_lexer": "ipython3",
   "version": "3.6.5"
  }
 },
 "nbformat": 4,
 "nbformat_minor": 2
}
